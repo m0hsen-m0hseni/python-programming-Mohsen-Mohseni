{
 "cells": [
  {
   "cell_type": "markdown",
   "metadata": {},
   "source": [
    "<a href=\"https://colab.research.google.com/github/pr0fez/AI24-Programmering/blob/master/Exercises/05-strings-exercise.ipynb\" target=\"_parent\"><img align=\"left\" src=\"https://colab.research.google.com/assets/colab-badge.svg\" alt=\"Open In Colab\"/></a> &nbsp; to see hints and answers."
   ]
  },
  {
   "cell_type": "markdown",
   "metadata": {},
   "source": [
    "# strings exercises\n",
    "\n",
    "---\n",
    "These are introductory exercises in Python with focus in **strings**.\n",
    "\n",
    "<p class = \"alert alert-info\" role=\"alert\"><b>Remember</b> to use <b>descriptive variable names</b> in order to get readable code </p>\n",
    "\n",
    "<p class = \"alert alert-info\" role=\"alert\"><b>Remember</b> to format your answers in a neat way using <b>f-strings</b>\n",
    "\n",
    "<p class = \"alert alert-info\" role=\"alert\"><b>Remember</b> to format your input questions in a pedagogical way to guide the user\n",
    "\n",
    "The number of stars (\\*), (\\*\\*), (\\*\\*\\*) denotes the difficulty level of the task\n",
    "\n",
    "---"
   ]
  },
  {
   "cell_type": "markdown",
   "metadata": {},
   "source": [
    "## 1. Counting letters (*)\n",
    "\n",
    "Let the user input a word: \n",
    "\n",
    "&nbsp; a) &nbsp; print out the number of letters in the word. (*) \n",
    "  \n",
    "&nbsp; b) &nbsp; print out the number of **uppercase** and **lowercase** letters of the word (*)   \n"
   ]
  },
  {
   "cell_type": "code",
   "execution_count": 3,
   "metadata": {},
   "outputs": [
    {
     "name": "stdout",
     "output_type": "stream",
     "text": [
      "Mohsen har 6 bokstaver\n"
     ]
    }
   ],
   "source": [
    "# a)\n",
    "user_input = input(\"Skriv ett ord: \")\n",
    "print(f\"{user_input} har {len(user_input)} bokstaver\")"
   ]
  },
  {
   "cell_type": "code",
   "execution_count": 8,
   "metadata": {},
   "outputs": [
    {
     "name": "stdout",
     "output_type": "stream",
     "text": [
      "Mohsen har 1 storbokstav och 5 småbokstav\n"
     ]
    }
   ],
   "source": [
    "# b)\n",
    "user_input = input(\"Skriv ett ord: \")\n",
    "stor_bokstav = 0\n",
    "småbok_stav = 0\n",
    "\n",
    "for bokstav in user_input:\n",
    "    if bokstav.isupper():\n",
    "        stor_bokstav += 1\n",
    "    elif bokstav.islower():\n",
    "        småbok_stav += 1\n",
    "\n",
    "print(f\"{user_input} har {stor_bokstav} storbokstav och {småbok_stav} småbokstav\")"
   ]
  },
  {
   "cell_type": "markdown",
   "metadata": {},
   "source": [
    "---\n",
    "## 2. Counting words (*)\n",
    "\n",
    "Count the number of words in this sentence: \"A picture says more than a thousand words, a matematical formula says more than a thousand pictures.\" (*) \n",
    "\n",
    "<details>\n",
    "\n",
    "<summary>Answer</summary>\n",
    "\n",
    "```\n",
    "There are 17 words in that sentence\n",
    "```"
   ]
  },
  {
   "cell_type": "code",
   "execution_count": 10,
   "metadata": {},
   "outputs": [
    {
     "name": "stdout",
     "output_type": "stream",
     "text": [
      "There are 17 words in that sentence\n"
     ]
    }
   ],
   "source": [
    "sentence = \"A picture says more than a thousand words, a matematical formula says more than a thousand pictures.\"\n",
    "words_count = len(sentence.split())\n",
    "print(f\"There are {words_count} words in that sentence\")"
   ]
  },
  {
   "cell_type": "markdown",
   "metadata": {},
   "source": [
    "---\n",
    "## 3. Palindrome (*)\n",
    "\n",
    "A palindrome is a sequence of characters that is the same, when read forward as backwards (ignoring spaces). For example:\n",
    "- \"Anna\" is a palindrome\n",
    "- \"Ni talar bra latin\"\n",
    "- bjkjb \n",
    "\n",
    "Let the user input a sequence of characters and check if it is a palindrome. (*)"
   ]
  },
  {
   "cell_type": "code",
   "execution_count": 12,
   "metadata": {},
   "outputs": [
    {
     "name": "stdout",
     "output_type": "stream",
     "text": [
      "It is not a palinmore!\n"
     ]
    }
   ],
   "source": [
    "user_input = input(\"Input a sequence of characters: \")\n",
    "is_palindrome = user_input.replace(\" \", \"\").lower()\n",
    "\n",
    "if is_palindrome == is_palindrome[::-1]:\n",
    "    print(\"It is a palindrome!\")\n",
    "else:\n",
    "    print(\"It is not a palinmore!\")"
   ]
  },
  {
   "cell_type": "markdown",
   "metadata": {},
   "source": [
    "---\n",
    "## 4. Vowels (**)\n",
    "\n",
    "Count the number of vowels in this sentence: \"Pure mathematics is, in its way, the poetry of logical ideas\"\n",
    "\n",
    "<details>\n",
    "\n",
    "<summary>Answer</summary>\n",
    "\n",
    "```\n",
    "\n",
    "There are 22 vowels in this sentence\n",
    "\n",
    "```\n",
    "</details>"
   ]
  },
  {
   "cell_type": "code",
   "execution_count": 14,
   "metadata": {},
   "outputs": [
    {
     "name": "stdout",
     "output_type": "stream",
     "text": [
      "There are 22 vowels in this sentence\n"
     ]
    }
   ],
   "source": [
    "sentence = \"Pure mathematics is, in its way, the poetry of logical ideas\"\n",
    "vowels = \"aeiouyAEIOUY\"\n",
    "count = 0\n",
    "\n",
    "for char in sentence:\n",
    "    if char in vowels:\n",
    "        count += 1\n",
    "\n",
    "print(f\"There are {count} vowels in this sentence\")\n"
   ]
  },
  {
   "cell_type": "markdown",
   "metadata": {},
   "source": [
    "---\n",
    "## 5. Encryption (**)\n",
    "\n",
    "Let the user input a word and: \n",
    "\n",
    "&nbsp; a) &nbsp; encrypt the message by replacing each letter with the next letter. If the letter is in the end of the alphabet, use the first letter instead. \n",
    "\n",
    "e.g. in Swedish: \"höst\" $\\rightarrow$ \"iatu\"\n",
    "\n",
    "&nbsp; b) &nbsp; decrypt the message\n",
    "\n",
    "&nbsp; c) &nbsp; let the user choose either encryption or decryption."
   ]
  },
  {
   "cell_type": "code",
   "execution_count": 28,
   "metadata": {},
   "outputs": [
    {
     "name": "stdout",
     "output_type": "stream",
     "text": [
      "Encrypted text:  iptu\n"
     ]
    }
   ],
   "source": [
    "# a)\n",
    "user_input  = input(\"Input a word: \")\n",
    "encrypt = \"\"\n",
    "\n",
    "for char in user_input:\n",
    "    if 'a' <= char <= 'z':\n",
    "        if char == 'z':\n",
    "            encrypt += 'a'\n",
    "        else:\n",
    "            encrypt += chr(ord(char) + 1)\n",
    "    elif 'A' <= char <= 'Z':\n",
    "        if char == 'Z':\n",
    "            encrypt += 'A'\n",
    "        else:\n",
    "            encrypt += chr(ord(char) + 1)\n",
    "    else:\n",
    "        encrypt += char\n",
    "\n",
    "print(\"Encrypted text: \", encrypt)\n"
   ]
  },
  {
   "cell_type": "code",
   "execution_count": 30,
   "metadata": {},
   "outputs": [
    {
     "name": "stdout",
     "output_type": "stream",
     "text": [
      "Encrypted text:  gnrs\n"
     ]
    }
   ],
   "source": [
    "# b)\n",
    "user_input  = input(\"Input a word: \")\n",
    "encrypt = \"\"\n",
    "\n",
    "for char in user_input:\n",
    "    if 'a' <= char <= 'z':\n",
    "        if char == 'a':\n",
    "            encrypt += 'z'\n",
    "        else:\n",
    "            encrypt += chr(ord(char) - 1)\n",
    "    elif 'A' <= char <= 'Z':\n",
    "        if char == 'A':\n",
    "            encrypt += 'Z'\n",
    "        else:\n",
    "            encrypt += chr(ord(char) - 1)\n",
    "    else:\n",
    "        encrypt += char\n",
    "\n",
    "print(\"Encrypted text: \", encrypt)"
   ]
  },
  {
   "cell_type": "code",
   "execution_count": 34,
   "metadata": {},
   "outputs": [
    {
     "name": "stdout",
     "output_type": "stream",
     "text": [
      "Encrypted text:  gnrs\n"
     ]
    }
   ],
   "source": [
    "# c)\n",
    "user_choose = input(\"Do you want to encrypt (e) or decrypt (d)? \")\n",
    "\n",
    "if user_choose == 'e':\n",
    "    user_input  = input(\"Input a word: \")\n",
    "    encrypt = \"\"\n",
    "\n",
    "    for char in user_input:\n",
    "        if 'a' <= char <= 'z':\n",
    "            if char == 'z':\n",
    "                encrypt += 'a'\n",
    "            else:\n",
    "                encrypt += chr(ord(char) + 1)\n",
    "        elif 'A' <= char <= 'Z':\n",
    "            if char == 'Z':\n",
    "                encrypt += 'A'\n",
    "            else:\n",
    "                encrypt += chr(ord(char) + 1)\n",
    "        else:\n",
    "            encrypt += char\n",
    "    print(\"Encrypted text: \", encrypt)\n",
    "elif user_choose == 'd':\n",
    "    user_input  = input(\"Input a word: \")\n",
    "    encrypt = \"\"\n",
    "\n",
    "    for char in user_input:\n",
    "        if 'a' <= char <= 'z':\n",
    "            if char == 'a':\n",
    "                encrypt += 'z'\n",
    "            else:\n",
    "                encrypt += chr(ord(char) - 1)\n",
    "        elif 'A' <= char <= 'Z':\n",
    "            if char == 'A':\n",
    "                encrypt += 'Z'\n",
    "            else:\n",
    "                encrypt += chr(ord(char) - 1)\n",
    "        else:\n",
    "            encrypt += char\n",
    "    print(\"Encrypted text: \", encrypt)\n",
    "    \n",
    "\n",
    "\n",
    "    "
   ]
  },
  {
   "cell_type": "markdown",
   "metadata": {},
   "source": [
    "---\n",
    "\n",
    "pr0fez Giang\n",
    "\n",
    "[LinkedIn][linkedIn_pr0fez]\n",
    "\n",
    "[GitHub portfolio][github_portfolio]\n",
    "\n",
    "[linkedIn_pr0fez]: https://www.linkedin.com/in/pr0fezgiang/\n",
    "[github_portfolio]: https://github.com/pr0fez/Portfolio-pr0fez-Giang\n",
    "\n",
    "---"
   ]
  }
 ],
 "metadata": {
  "kernelspec": {
   "display_name": ".venv",
   "language": "python",
   "name": "python3"
  },
  "language_info": {
   "codemirror_mode": {
    "name": "ipython",
    "version": 3
   },
   "file_extension": ".py",
   "mimetype": "text/x-python",
   "name": "python",
   "nbconvert_exporter": "python",
   "pygments_lexer": "ipython3",
   "version": "3.13.7"
  },
  "orig_nbformat": 4
 },
 "nbformat": 4,
 "nbformat_minor": 2
}
