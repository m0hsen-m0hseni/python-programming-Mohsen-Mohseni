{
 "cells": [
  {
   "cell_type": "markdown",
   "metadata": {},
   "source": [
    "\n",
    "<a href=\"https://colab.research.google.com/github/pr0fez/AI24-Programmering/blob/master/Exercises/09-dictionary-exercises.ipynb\" target=\"_parent\"><img align=\"left\" src=\"https://colab.research.google.com/assets/colab-badge.svg\" alt=\"Open In Colab\"/></a> &nbsp; to see hints and answers."
   ]
  },
  {
   "cell_type": "markdown",
   "metadata": {},
   "source": [
    "# dictionary exercises\n",
    "\n",
    "---\n",
    "These are introductory exercises in Python with focus in **dictionary**.\n",
    "\n",
    "<p class = \"alert alert-info\" role=\"alert\"><b>Remember</b> to use <b>descriptive variable and function names</b> in order to get readable code </p>\n",
    "\n",
    "<p class = \"alert alert-info\" role=\"alert\"><b>Remember</b> to format your answers in a neat way using <b>f-strings</b>\n",
    "\n",
    "<p class = \"alert alert-info\" role=\"alert\"><b>Remember</b> to format your input questions in a pedagogical way to guide the user\n",
    "\n",
    "The number of stars (\\*), (\\*\\*), (\\*\\*\\*) denotes the difficulty level of the task\n",
    "\n",
    "---"
   ]
  },
  {
   "cell_type": "markdown",
   "metadata": {},
   "source": [
    "## 1. Curriculum (*)\n",
    "\n",
    "Create a dictionary containing all the courses that you will study in this program, with the course names as **keys** and the amount of points as **value**. Then calculate the number of points that you will study in total. (*)\n",
    "\n",
    "<details>\n",
    "\n",
    "<summary>Answer</summary>\n",
    "\n",
    "Look at your course program curriculum\n",
    "\n",
    "</details>\n"
   ]
  },
  {
   "cell_type": "code",
   "execution_count": 5,
   "metadata": {},
   "outputs": [
    {
     "name": "stdout",
     "output_type": "stream",
     "text": [
      "5\n",
      "40\n",
      "25\n",
      "20\n",
      "30\n",
      "45\n",
      "25\n",
      "45\n",
      "40\n",
      "40\n",
      "70\n",
      "15\n",
      "400\n"
     ]
    }
   ],
   "source": [
    "aim25 = {\n",
    "    \"Introduktion AI\": 5,\n",
    "    \"Python Programmering\": 40,\n",
    "    \"Databehandlingar\": 25,\n",
    "    \"Linjär algebra\": 20,\n",
    "    \"Statistiska Metoder\": 30,\n",
    "    \"Maskininlärning\": 45,\n",
    "    \"Databaser\": 25,\n",
    "    \"Data engineering\": 45,\n",
    "    \"LIA1\": 40,\n",
    "    \"Djub maskininlärning\": 40,\n",
    "    \"LIA\": 70,\n",
    "    \"Examenarbeta\": 15    \n",
    "}\n",
    "\n",
    "total_points = 0\n",
    "\n",
    "for x in aim25:\n",
    "    print(aim25[x])\n",
    "    total_points += aim25[x]\n",
    "print(total_points)"
   ]
  },
  {
   "cell_type": "markdown",
   "metadata": {},
   "source": [
    "---\n",
    "## 2. Dice simulation (*)\n",
    "\n",
    "Simulate 1000000 dice rolls and save the number of ones, twos, ..., sixes in a dictionary. Then print them out in the terminal. (*)\n",
    "\n",
    "<details>\n",
    "\n",
    "<summary>Answer</summary>\n",
    "\n",
    "```\n",
    "1: 166481\n",
    "2: 166844\n",
    "3: 166154\n",
    "4: 167400\n",
    "5: 167260\n",
    "6: 165861\n",
    "```\n",
    "\n",
    "</details>\n"
   ]
  },
  {
   "cell_type": "code",
   "execution_count": 9,
   "metadata": {},
   "outputs": [
    {
     "name": "stdout",
     "output_type": "stream",
     "text": [
      "{4: 167384, 2: 167151, 1: 166171, 6: 166497, 5: 166658, 3: 166139}\n",
      "1 166171\n",
      "2 167151\n",
      "3 166139\n",
      "4 167384\n",
      "5 166658\n",
      "6 166497\n"
     ]
    }
   ],
   "source": [
    "import random as rnd\n",
    "\n",
    "dice_rolls = {}\n",
    "\n",
    "for i in range(1000000):\n",
    "    roll = rnd.randint(1, 6)\n",
    "    dice_rolls[roll] = dice_rolls.get(roll, 0) + 1\n",
    "\n",
    "print(dice_rolls)\n",
    "\n",
    "for face in range(1, 7):\n",
    "    print(face, dice_rolls.get(face, 0))\n"
   ]
  },
  {
   "cell_type": "markdown",
   "metadata": {},
   "source": [
    "---\n",
    "## 3. Pokemon list (*)\n",
    "\n",
    "Read in the file pokemon_list.txt in Python. Create a variable with name pokedex with the key:value **\"pokemon\":\"type, index\"**. For example when searching for the keys \"Gengar\" and \"Pikachu\": (*)\n",
    "\n",
    "```python\n",
    "\n",
    "print(pokedex[\"Gengar\"])\n",
    "print(pokedex[\"Pikachu\"])\n",
    "\n",
    "Spöke/Gift, 94\n",
    "Elektrisk, 25\n",
    "```\n",
    "\n",
    "<details>\n",
    "\n",
    "<summary>Answer</summary>\n",
    "\n",
    "```\n",
    "{'Bulbasaur': 'Gräs/Gift, 1',\n",
    " 'Ivysaur': 'Gräs/Gift, 2',\n",
    " 'Venusaur': 'Gräs/Gift, 3',\n",
    " 'Charmander': 'Eld, 4',\n",
    " 'Charmeleon': 'Eld, 5',\n",
    " 'Charizard': 'Eld/Flygande, 6',\n",
    " 'Squirtle': 'Vatten, 7',\n",
    " 'Wartortle': 'Vatten, 8',\n",
    " 'Blastoise': 'Vatten, 9',\n",
    " ...\n",
    "}\n",
    "```\n",
    "\n",
    "</details>\n"
   ]
  },
  {
   "cell_type": "code",
   "execution_count": 9,
   "metadata": {},
   "outputs": [
    {
     "name": "stdout",
     "output_type": "stream",
     "text": [
      "Gräs/Gift, 1\n",
      "Elektrisk, 25\n"
     ]
    }
   ],
   "source": [
    "pokedex = {}\n",
    "\n",
    "with open(\"pokemon_list.txt\", \"r\", encoding=\"utf-8-sig\") as f:\n",
    "    for raw_line in f:\n",
    "        line = raw_line.strip()\n",
    "        if not line:\n",
    "            continue\n",
    "\n",
    "        parts = line.split(maxsplit=2)\n",
    "        if len(parts) == 3:\n",
    "            index, name, type_ = parts\n",
    "            pokedex[name] = f\"{type_}, {index}\"\n",
    "\n",
    "print(pokedex[\"Bulbasaur\"])\n",
    "print(pokedex[\"Pikachu\"])"
   ]
  },
  {
   "cell_type": "markdown",
   "metadata": {},
   "source": [
    "---\n",
    "## 4. Morse code (**)\n",
    "\n",
    "Read in the file morse.txt, save it in a dictionary and create a function that lets the user input a message to get it translated to morse code. For example  (**)\n",
    "\n",
    "```python\n",
    "\n",
    "print(morse(\"SOS\"))\n",
    "print(morse(\"POKEMON\"))\n",
    "\n",
    "...---...\n",
    ".------.-.------.\n",
    "```"
   ]
  },
  {
   "cell_type": "code",
   "execution_count": 15,
   "metadata": {},
   "outputs": [
    {
     "name": "stdout",
     "output_type": "stream",
     "text": [
      ".-- --- -.- . -- --- -.\n",
      "... --- ...\n"
     ]
    }
   ],
   "source": [
    "morse_map = {}\n",
    "with open(\"morse.txt\", \"r\", encoding=\"utf-8-sig\") as f:\n",
    "    for raw_line in f:\n",
    "        line = raw_line.strip()\n",
    "        if not line:\n",
    "            continue\n",
    "        \n",
    "        key, code = line.split(\":\", 1)\n",
    "        morse_map[key.strip()] = code.strip()\n",
    "\n",
    "morse_map[\" \"] = \"/\"\n",
    "\n",
    "def morse(text):\n",
    "    out_words = []\n",
    "    for word in text.upper().split(\" \"):\n",
    "        codes = []\n",
    "        for ch in word:\n",
    "            if ch in morse_map:\n",
    "                codes.append(morse_map[ch])\n",
    "        out_words.append(\" \".join(codes))\n",
    "    return \" / \".join(out_words)\n",
    "\n",
    "message = input(\"Input a message to convert to Morse code: \")\n",
    "print(morse(message))\n",
    "\n",
    "print(morse(\"SOS\"))\n",
    " \n"
   ]
  },
  {
   "cell_type": "markdown",
   "metadata": {},
   "source": [
    "---\n",
    "\n",
    "pr0fez Giang\n",
    "\n",
    "[LinkedIn][linkedIn_pr0fez]\n",
    "\n",
    "[GitHub portfolio][github_portfolio]\n",
    "\n",
    "[linkedIn_pr0fez]: https://www.linkedin.com/in/pr0fezgiang/\n",
    "[github_portfolio]: https://github.com/pr0fez/Portfolio-pr0fez-Giang\n",
    "\n",
    "---"
   ]
  }
 ],
 "metadata": {
  "kernelspec": {
   "display_name": ".venv",
   "language": "python",
   "name": "python3"
  },
  "language_info": {
   "codemirror_mode": {
    "name": "ipython",
    "version": 3
   },
   "file_extension": ".py",
   "mimetype": "text/x-python",
   "name": "python",
   "nbconvert_exporter": "python",
   "pygments_lexer": "ipython3",
   "version": "3.13.7"
  },
  "orig_nbformat": 4
 },
 "nbformat": 4,
 "nbformat_minor": 2
}
