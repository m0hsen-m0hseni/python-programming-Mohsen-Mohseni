{
 "cells": [
  {
   "cell_type": "markdown",
   "metadata": {},
   "source": [
    "\n",
    "<a href=\"https://colab.research.google.com/github/pr0fez/AI24-Programmering/blob/master/Exercises/01-if-statement-exercise.ipynb\" target=\"_parent\"><img align=\"left\" src=\"https://colab.research.google.com/assets/colab-badge.svg\" alt=\"Open In Colab\"/></a> &nbsp; to see hints and answers."
   ]
  },
  {
   "cell_type": "markdown",
   "metadata": {},
   "source": [
    "# if statements exercises\n",
    "\n",
    "---\n",
    "These are introductory exercises in Python with focus in **if** statement.\n",
    "\n",
    "<p class = \"alert alert-info\" role=\"alert\"><b>Remember</b> to use <b>descriptive variable names</b> in order to get readable code </p>\n",
    "\n",
    "<p class = \"alert alert-info\" role=\"alert\"><b>Remember</b> to format your answers in a neat way using <b>f-strings</b>\n",
    "\n",
    "<p class = \"alert alert-info\" role=\"alert\"><b>Remember</b> to format your input questions in a pedagogical way to guide the user\n",
    "\n",
    "The number of stars (\\*), (\\*\\*), (\\*\\*\\*) denotes the difficulty level of the task\n",
    "\n",
    "---"
   ]
  },
  {
   "cell_type": "markdown",
   "metadata": {},
   "source": [
    "## 1. Check sign (*)\n",
    "\n",
    "Ask the user to input a number and check if this number is **positive**, **negative** or **zero** and print it."
   ]
  },
  {
   "cell_type": "code",
   "execution_count": null,
   "metadata": {},
   "outputs": [
    {
     "name": "stdout",
     "output_type": "stream",
     "text": [
      "-1.0 är negative.\n"
     ]
    }
   ],
   "source": [
    "#Uppgift 1\n",
    "nummer = float(input(\"skriv in ett nummer: \"))\n",
    "\n",
    "if nummer > 0:\n",
    "    print(f\"{nummer} är positivt.\")\n",
    "elif nummer < 0:\n",
    "    print(f\"{nummer} är negativt.\")\n",
    "else:\n",
    "    print(\"nummer är noll\") \n"
   ]
  },
  {
   "cell_type": "markdown",
   "metadata": {},
   "source": [
    "---\n",
    "## 2. Smallest (*)\n",
    "Ask the user to input two numbers and check which one is the smallest and print it out.   "
   ]
  },
  {
   "cell_type": "code",
   "execution_count": 3,
   "metadata": {},
   "outputs": [
    {
     "name": "stdout",
     "output_type": "stream",
     "text": [
      "Skriva in 2 nummer.\n",
      "Numren är lika stora.\n"
     ]
    }
   ],
   "source": [
    "#Uppgift 2\n",
    "print(\"Skriva in 2 nummer.\")\n",
    "nummer1 = float(input(\"Första nummer: \"))\n",
    "nummer2 = float(input(\"Andra nummer: \"))\n",
    "\n",
    "if nummer1 < nummer2:\n",
    "    print(f\"{nummer1} är mindre än {nummer2}\")\n",
    "elif nummer1 > nummer2:\n",
    "    print(f\"{nummer2} är mindre är {nummer1}\")\n",
    "else:\n",
    "    print(\"Numren är lika stora.\")"
   ]
  },
  {
   "cell_type": "markdown",
   "metadata": {},
   "source": [
    "---\n",
    "## 3. Right angle (*)\n",
    "\n",
    "Ask the user to input three angles and check if the triangle has a right angle. Your code should make sure that all three angles are valid and make up a triangle.\n",
    "\n",
    "<img align=\"left\" src=\"../assets/triangle_angles.png\" width=\"200\"/>"
   ]
  },
  {
   "cell_type": "code",
   "execution_count": 1,
   "metadata": {},
   "outputs": [
    {
     "name": "stdout",
     "output_type": "stream",
     "text": [
      "Skriv in trangel vinklar!\n",
      "Bravo!!\n"
     ]
    }
   ],
   "source": [
    "#Uppgift 3\n",
    "print(\"Skriv in trangel vinklar!\")\n",
    "vinkel_r = int(input(\"Vinkel r är: \"))\n",
    "vinkel_a = int(input(\"Vinkel a är: \"))\n",
    "vinkel_b = int(input(\"Vinkel b är: \"))\n",
    "if vinkel_r == 90 and vinkel_a +vinkel_b + vinkel_r == 180:\n",
    "    print(\"Bravo!!\")\n",
    "else:\n",
    "    print(\"Försök igen!\")"
   ]
  },
  {
   "cell_type": "markdown",
   "metadata": {},
   "source": [
    "----\n",
    "## 4. Medicine (*)\n",
    "\n",
    "The information in the following table is stated in a medicine package. Also it is stated that for children weight is more important than age.\n",
    "\n",
    "<table align=\"left\">\n",
    "<thead>\n",
    "    <tr>\n",
    "        <th></th>\n",
    "        <th>Age</th>\n",
    "        <th>Number of pills</th>\n",
    "    </tr>\n",
    "</thead>\n",
    "\n",
    "<tbody>\n",
    "  <tr>\n",
    "    <td>Adults & adolescent <br>over 40 kg</td>\n",
    "    <td>over 12 years</td>\n",
    "    <td>1-2</td>\n",
    "  </tr>\n",
    "\n",
    "  <tr>\n",
    "    <td>Children 26-40 kg</td>\n",
    "    <td>7-12 years</td>\n",
    "    <td>1/2-1</td>\n",
    "  </tr>\n",
    "\n",
    "  <tr>\n",
    "    <td>Children 15-25 kg</td>\n",
    "    <td>3-7 years</td>\n",
    "    <td>1/2</td>\n",
    "  </tr>\n",
    "</tbody>\n",
    "</table>"
   ]
  },
  {
   "cell_type": "markdown",
   "metadata": {},
   "source": [
    "Let the user input an **age** and a **weight**, the program should recommend the number of pills for the user."
   ]
  },
  {
   "cell_type": "code",
   "execution_count": 8,
   "metadata": {},
   "outputs": [
    {
     "name": "stdout",
     "output_type": "stream",
     "text": [
      "Du ska ta 1-2 tabletter\n"
     ]
    }
   ],
   "source": [
    "#Uppgift 4\n",
    "ålder = int(input(\"Hur gammal är du? \"))\n",
    "vikt = float(input(\"Hur mycket väger du? \"))\n",
    "if vikt > 40 and ålder > 12:\n",
    "    print(\"Du ska ta 1-2 tabletter\")\n",
    "elif 26 <= vikt <= 40:\n",
    "    print(\"Du ska ta 1 tablett\")\n",
    "elif 15 <= vikt <= 25:\n",
    "    print(\"Du ska ta 1/2 tablett\")\n",
    "else:\n",
    "    print(\"Försök igen! Uppgifterna stämmer inte med tabellen\")"
   ]
  },
  {
   "cell_type": "markdown",
   "metadata": {},
   "source": [
    "---\n",
    "## 5. Divisible (*)\n",
    "Let the user input a number. Check if the number is\n",
    "<ol type=\"a\">\n",
    "  <li>even or odd</li>\n",
    "  <li>is divisible by 5</li>\n",
    "  <li>is divisble by 5 and odd</li>\n",
    "</ol> "
   ]
  },
  {
   "cell_type": "code",
   "execution_count": 11,
   "metadata": {},
   "outputs": [
    {
     "name": "stdout",
     "output_type": "stream",
     "text": [
      "15 är ett udda tal\n",
      "15 är delbar med 5\n",
      "15 är delbar med 5 och är udda\n"
     ]
    }
   ],
   "source": [
    "#Uppgitf 5\n",
    "nummer = int(input(\"Skriv ett heltal: \"))\n",
    "if nummer % 2 == 0: print(f\"{nummer} är jämnt tal\")\n",
    "else: print(f\"{nummer} är ett udda tal\")\n",
    "if nummer % 5 == 0: print(f\"{nummer} är delbar med 5\")\n",
    "if nummer % 5== 0 and nummer % 2 != 0: print(f\"{nummer} är delbar med 5 och är udda\")\n",
    "    "
   ]
  },
  {
   "cell_type": "markdown",
   "metadata": {},
   "source": [
    "---\n",
    "## 6. Luggage size (*)\n",
    "\n",
    "The maximum allowed luggage size for boarding an airplane is: \n",
    "- weight: 8kg\n",
    "- dimensions: 55x40x23cm (length x width x height) \n",
    "\n",
    "Let the user input weight, length, width and height of the luggage. The program should check if the luggage is allowed or not."
   ]
  },
  {
   "cell_type": "code",
   "execution_count": 2,
   "metadata": {},
   "outputs": [
    {
     "name": "stdout",
     "output_type": "stream",
     "text": [
      "Skriva in mått på din väska:\n",
      "Din väska är tillåten\n"
     ]
    }
   ],
   "source": [
    "#Uppgift 6\n",
    "vikt = float(input(\"Hur mycket väger din väska? \"))\n",
    "print(\"Skriva in mått på din väska:\")\n",
    "längd = float(input(\"Längd: \"))\n",
    "bredd = float(input(\"Bredd: \"))\n",
    "höjd = float(input(\"Höjd: \"))\n",
    "if vikt <= 8 and längd <= 55 and bredd <= 40 and höjd <= 23:\n",
    "    print(\"Din väska är tillåten\")\n",
    "else:\n",
    "    print(\"Tyvärr din väska är inte tillåten\")"
   ]
  },
  {
   "cell_type": "markdown",
   "metadata": {},
   "source": [
    "---\n",
    "\n",
    "pr0fez Giang\n",
    "\n",
    "[LinkedIn][linkedIn_pr0fez]\n",
    "\n",
    "[GitHub portfolio][github_portfolio]\n",
    "\n",
    "[linkedIn_pr0fez]: https://www.linkedin.com/in/pr0fezgiang/\n",
    "[github_portfolio]: https://github.com/pr0fez/Portfolio-pr0fez-Giang\n",
    "\n",
    "---"
   ]
  }
 ],
 "metadata": {
  "kernelspec": {
   "display_name": ".venv",
   "language": "python",
   "name": "python3"
  },
  "language_info": {
   "codemirror_mode": {
    "name": "ipython",
    "version": 3
   },
   "file_extension": ".py",
   "mimetype": "text/x-python",
   "name": "python",
   "nbconvert_exporter": "python",
   "pygments_lexer": "ipython3",
   "version": "3.13.7"
  },
  "orig_nbformat": 4
 },
 "nbformat": 4,
 "nbformat_minor": 2
}
